{
 "cells": [
  {
   "cell_type": "code",
   "execution_count": 1,
   "id": "2bb58857",
   "metadata": {},
   "outputs": [],
   "source": [
    "import pandas as pd\n",
    "import numpy as np\n",
    "import matplotlib.pyplot as plt\n",
    "import seaborn as sns"
   ]
  },
  {
   "cell_type": "code",
   "execution_count": 2,
   "id": "8560028d",
   "metadata": {},
   "outputs": [
    {
     "name": "stdout",
     "output_type": "stream",
     "text": [
      "C:\\Users\\ykkou\\Desktop\\imarticus\\Tutorial Datasets\\genpact hackathon\n"
     ]
    }
   ],
   "source": [
    "import io\n",
    "%cd \"C:\\Users\\ykkou\\Desktop\\imarticus\\Tutorial Datasets\\genpact hackathon\""
   ]
  },
  {
   "cell_type": "code",
   "execution_count": 3,
   "id": "8530c530",
   "metadata": {},
   "outputs": [],
   "source": [
    "india_test = pd.read_csv('India_test.csv')"
   ]
  },
  {
   "cell_type": "code",
   "execution_count": 4,
   "id": "c1f92f57",
   "metadata": {},
   "outputs": [],
   "source": [
    "india_train = pd.read_csv('India_train.csv')"
   ]
  },
  {
   "cell_type": "code",
   "execution_count": 5,
   "id": "f8658e18",
   "metadata": {},
   "outputs": [],
   "source": [
    "submission = pd.read_csv('v2.csv')"
   ]
  },
  {
   "cell_type": "code",
   "execution_count": 6,
   "id": "c18eb3db",
   "metadata": {},
   "outputs": [
    {
     "data": {
      "text/plain": [
       "((4705, 103), (2476, 103))"
      ]
     },
     "execution_count": 6,
     "metadata": {},
     "output_type": "execute_result"
    }
   ],
   "source": [
    "india_train.shape,india_test.shape"
   ]
  },
  {
   "cell_type": "code",
   "execution_count": 7,
   "id": "b217ddf1",
   "metadata": {},
   "outputs": [
    {
     "data": {
      "text/plain": [
       "Year                                  0\n",
       "State Name                            0\n",
       "Dist Name                             0\n",
       "COTTON AREA (1000 ha)               267\n",
       "COTTON PRODUCTION (1000 tons)       228\n",
       "                                   ... \n",
       "POTASH PER HA OF NCA (Kg per ha)    256\n",
       "POTASH PER HA OF GCA (Kg per ha)    238\n",
       "TOTAL CONSUMPTION (tons)            265\n",
       "TOTAL PER HA OF NCA (Kg per ha)     262\n",
       "TOTAL PER HA OF GCA (Kg per ha)     231\n",
       "Length: 103, dtype: int64"
      ]
     },
     "execution_count": 7,
     "metadata": {},
     "output_type": "execute_result"
    }
   ],
   "source": [
    "india_train.isnull().sum()"
   ]
  },
  {
   "cell_type": "code",
   "execution_count": 8,
   "id": "3db43c89",
   "metadata": {},
   "outputs": [
    {
     "data": {
      "text/plain": [
       "Year                                  0\n",
       "State Name                            0\n",
       "Dist Name                             0\n",
       "COTTON AREA (1000 ha)               121\n",
       "COTTON PRODUCTION (1000 tons)       117\n",
       "                                   ... \n",
       "POTASH PER HA OF NCA (Kg per ha)    108\n",
       "POTASH PER HA OF GCA (Kg per ha)    118\n",
       "TOTAL CONSUMPTION (tons)            134\n",
       "TOTAL PER HA OF NCA (Kg per ha)     126\n",
       "TOTAL PER HA OF GCA (Kg per ha)     131\n",
       "Length: 103, dtype: int64"
      ]
     },
     "execution_count": 8,
     "metadata": {},
     "output_type": "execute_result"
    }
   ],
   "source": [
    "india_test.isnull().sum()"
   ]
  },
  {
   "cell_type": "code",
   "execution_count": 9,
   "id": "8f488d8f",
   "metadata": {},
   "outputs": [],
   "source": [
    "india_test['COTTON YIELD (Kg per ha)'] = 'test'"
   ]
  },
  {
   "cell_type": "code",
   "execution_count": 10,
   "id": "8614126d",
   "metadata": {},
   "outputs": [
    {
     "data": {
      "text/plain": [
       "0       test\n",
       "1       test\n",
       "2       test\n",
       "3       test\n",
       "4       test\n",
       "        ... \n",
       "2471    test\n",
       "2472    test\n",
       "2473    test\n",
       "2474    test\n",
       "2475    test\n",
       "Name: COTTON YIELD (Kg per ha), Length: 2476, dtype: object"
      ]
     },
     "execution_count": 10,
     "metadata": {},
     "output_type": "execute_result"
    }
   ],
   "source": [
    "india_test['COTTON YIELD (Kg per ha)']"
   ]
  },
  {
   "cell_type": "code",
   "execution_count": 11,
   "id": "5d5b9604",
   "metadata": {},
   "outputs": [],
   "source": [
    "combine_df = pd.concat([india_train,india_test])"
   ]
  },
  {
   "cell_type": "code",
   "execution_count": 21,
   "id": "568b2279",
   "metadata": {},
   "outputs": [
    {
     "name": "stdout",
     "output_type": "stream",
     "text": [
      "<class 'pandas.core.frame.DataFrame'>\n",
      "Int64Index: 7181 entries, 0 to 2475\n",
      "Data columns (total 103 columns):\n",
      " #    Column                                          Non-Null Count  Dtype  \n",
      "---   ------                                          --------------  -----  \n",
      " 0    Year                                            7181 non-null   int64  \n",
      " 1    State Name                                      7181 non-null   object \n",
      " 2    Dist Name                                       7181 non-null   object \n",
      " 3    COTTON AREA (1000 ha)                           6793 non-null   float64\n",
      " 4    COTTON PRODUCTION (1000 tons)                   6836 non-null   float64\n",
      " 5    COTTON YIELD (Kg per ha)                        7181 non-null   object \n",
      " 6    JANUARY PERCIPITATION (Millimeters)             6841 non-null   float64\n",
      " 7    FEBRUARY PERCIPITATION (Millimeters)            6812 non-null   float64\n",
      " 8    MARCH PERCIPITATION (Millimeters)               6796 non-null   float64\n",
      " 9    APRIL PERCIPITATION (Millimeters)               6839 non-null   float64\n",
      " 10   MAY PERCIPITATION (Millimeters)                 6837 non-null   float64\n",
      " 11   JUNE PERCIPITATION (Millimeters)                6808 non-null   float64\n",
      " 12   JULY PERCIPITATION (Millimeters)                6807 non-null   float64\n",
      " 13   AUGUST PERCIPITATION (Millimeters)              6806 non-null   float64\n",
      " 14   SEPTEMBER PERCIPITATION (Millimeters)           6782 non-null   float64\n",
      " 15   OCTOBER PERCIPITATION (Millimeters)             6825 non-null   float64\n",
      " 16   NOVEMBER PERCIPITATION (Millimeters)            6831 non-null   float64\n",
      " 17   DECEMBER PERCIPITATION (Millimeters)            6833 non-null   float64\n",
      " 18   JANUARY MINIMUM (Centigrate)                    6805 non-null   float64\n",
      " 19   FEBRUARY MINIMUM (Centigrate)                   6826 non-null   float64\n",
      " 20   MARCH MINIMUM (Centigrate)                      6825 non-null   float64\n",
      " 21   APRIL MINIMUM (Centigrate)                      6848 non-null   float64\n",
      " 22   MAY MINIMUM (Centigrate)                        6837 non-null   float64\n",
      " 23   JUNE MINIMUM (Centigrate)                       6827 non-null   float64\n",
      " 24   JULY MINIMUM (Centigrate)                       6833 non-null   float64\n",
      " 25   AUGUST MINIMUM (Centigrate)                     6822 non-null   float64\n",
      " 26   SEPTEMBER MINIMUM (Centigrate)                  6799 non-null   float64\n",
      " 27   OCTOBER MINIMUM (Centigrate)                    6832 non-null   float64\n",
      " 28   NOVEMBER MINIMUM (Centigrate)                   6817 non-null   float64\n",
      " 29   DECEMBER MINIMUM (Centigrate)                   6757 non-null   float64\n",
      " 30   JANUARY MAXIMUM (Centigrate)                    6798 non-null   float64\n",
      " 31   FEBRUARY MAXIMUM (Centigrate)                   6819 non-null   float64\n",
      " 32   MARCH MAXIMUM (Centigrate)                      6825 non-null   float64\n",
      " 33   APRIL MAXIMUM (Centigrate)                      6823 non-null   float64\n",
      " 34   MAY MAXIMUM (Centigrate)                        6791 non-null   float64\n",
      " 35   JUNE MAXIMUM (Centigrate)                       6797 non-null   float64\n",
      " 36   JULY MAXIMUM (Centigrate)                       6819 non-null   float64\n",
      " 37   AUGUST MAXIMUM (Centigrate)                     6829 non-null   float64\n",
      " 38   SEPTEMBER MAXIMUM (Centigrate)                  6819 non-null   float64\n",
      " 39   OCTOBER MAXIMUM (Centigrate)                    6811 non-null   float64\n",
      " 40   NOVEMBER MAXIMUM (Centigrate)                   6778 non-null   float64\n",
      " 41   DECEMBER MAXIMUM (Centigrate)                   6820 non-null   float64\n",
      " 42   JANUARY WATER DEFICIT (Millimeters)             6780 non-null   float64\n",
      " 43   FEBRUARY WATER DEFICIT (Millimeters)            6830 non-null   float64\n",
      " 44   MARCH WATER DEFICIT (Millimeters)               6826 non-null   float64\n",
      " 45   APRIL WATER DEFICIT (Millimeters)               6840 non-null   float64\n",
      " 46   MAY WATER DEFICIT (Millimeters)                 6830 non-null   float64\n",
      " 47   JUNE WATER DEFICIT (Millimeters)                6818 non-null   float64\n",
      " 48   JULY WATER DEFICIT (Millimeters)                6837 non-null   float64\n",
      " 49   AUGUST WATER DEFICIT (Millimeters)              6800 non-null   float64\n",
      " 50   OCTOBER WATER DEFICIT (Millimeters)             6827 non-null   float64\n",
      " 51   NOVEMBER WATER DEFICIT (Millimeters)            6834 non-null   float64\n",
      " 52   DECEMBER WATER DEFICIT (Millimeters)            6792 non-null   float64\n",
      " 53   JANUARY ACTUAL (Millimeters)                    6823 non-null   float64\n",
      " 54   FEBRUARY ACTUAL (Millimeters)                   6803 non-null   float64\n",
      " 55   MARCH ACTUAL (Millimeters)                      6853 non-null   float64\n",
      " 56   APRIL ACTUAL (Millimeters)                      6804 non-null   float64\n",
      " 57   MAY ACTUAL (Millimeters)                        6837 non-null   float64\n",
      " 58   JUNE ACTUAL (Millimeters)                       6796 non-null   float64\n",
      " 59   JULY ACTUAL (Millimeters)                       6800 non-null   float64\n",
      " 60   AUGUST ACTUAL (Millimeters)                     6840 non-null   float64\n",
      " 61   SEPTEMBER ACTUAL (Millimeters)                  6807 non-null   float64\n",
      " 62   OCTOBER ACTUAL (Millimeters)                    6821 non-null   float64\n",
      " 63   NOVEMBER ACTUAL (Millimeters)                   6832 non-null   float64\n",
      " 64   DECEMBER ACTUAL (Millimeters)                   6829 non-null   float64\n",
      " 65   JANUARY POTENTIAL (Millimeters)                 6834 non-null   float64\n",
      " 66   FEBRUARY POTENTIAL (Millimeters)                6803 non-null   float64\n",
      " 67   MARCH POTENTIAL (Millimeters)                   6830 non-null   float64\n",
      " 68   APRIL POTENTIAL (Millimeters)                   6814 non-null   float64\n",
      " 69   MAY POTENTIAL (Millimeters)                     6829 non-null   float64\n",
      " 70   JUNE POTENTIAL (Millimeters)                    6812 non-null   float64\n",
      " 71   JULY POTENTIAL (Millimeters)                    6844 non-null   float64\n",
      " 72   AUGUST POTENTIAL (Millimeters)                  6812 non-null   float64\n",
      " 73   SEPTEMBER POTENTIAL (Millimeters)               6820 non-null   float64\n",
      " 74   OCTOBER POTENTIAL (Millimeters)                 6784 non-null   float64\n",
      " 75   NOVEMBER POTENTIAL (Millimeters)                6845 non-null   float64\n",
      " 76   DECEMBER POTENTIAL (Millimeters)                6827 non-null   float64\n",
      " 77   TOTAL AREA (1000 ha)                            6806 non-null   float64\n",
      " 78   FOREST AREA (1000 ha)                           6835 non-null   float64\n",
      " 79   BARREN AND UNCULTIVABLE LAND AREA (1000 ha)     6804 non-null   float64\n",
      " 80   LAND PUT TO NONAGRICULTURAL USE AREA (1000 ha)  6853 non-null   float64\n",
      " 81   CULTIVABLE WASTE LAND AREA (1000 ha)            6848 non-null   float64\n",
      " 82   PERMANENT PASTURES AREA (1000 ha)               6818 non-null   float64\n",
      " 83   OTHER FALLOW AREA (1000 ha)                     6816 non-null   float64\n",
      " 84   CURRENT FALLOW AREA (1000 ha)                   6797 non-null   float64\n",
      " 85   NET CROPPED AREA (1000 ha)                      6815 non-null   float64\n",
      " 86   GROSS CROPPED AREA (1000 ha)                    6843 non-null   float64\n",
      " 87   CROPING INTENSITY (Percent)                     6839 non-null   float64\n",
      " 88   NITROGEN CONSUMPTION (tons)                     6827 non-null   float64\n",
      " 89   NITROGEN SHARE IN NPK (Percent)                 6847 non-null   float64\n",
      " 90   NITROGEN PER HA OF NCA (Kg per ha)              6804 non-null   float64\n",
      " 91   NITROGEN PER HA OF GCA (Kg per ha)              6809 non-null   float64\n",
      " 92   PHOSPHATE CONSUMPTION (tons)                    6822 non-null   float64\n",
      " 93   PHOSPHATE SHARE IN NPK (Percent)                6840 non-null   float64\n",
      " 94   PHOSPHATE PER HA OF NCA (Kg per ha)             6800 non-null   float64\n",
      " 95   PHOSPHATE PER HA OF GCA (Kg per ha)             6847 non-null   float64\n",
      " 96   POTASH CONSUMPTION (tons)                       6843 non-null   float64\n",
      " 97   POTASH SHARE IN NPK (Percent)                   6836 non-null   float64\n",
      " 98   POTASH PER HA OF NCA (Kg per ha)                6817 non-null   float64\n",
      " 99   POTASH PER HA OF GCA (Kg per ha)                6825 non-null   float64\n",
      " 100  TOTAL CONSUMPTION (tons)                        6782 non-null   float64\n",
      " 101  TOTAL PER HA OF NCA (Kg per ha)                 6793 non-null   float64\n",
      " 102  TOTAL PER HA OF GCA (Kg per ha)                 6819 non-null   float64\n",
      "dtypes: float64(99), int64(1), object(3)\n",
      "memory usage: 5.7+ MB\n"
     ]
    }
   ],
   "source": [
    "combine_df.info(max_cols=110)"
   ]
  },
  {
   "cell_type": "code",
   "execution_count": 84,
   "id": "d1557e00",
   "metadata": {},
   "outputs": [],
   "source": [
    "non_numeric_cols = combine_df.drop('COTTON YIELD (Kg per ha)',axis=1).select_dtypes(include='object')"
   ]
  },
  {
   "cell_type": "code",
   "execution_count": 60,
   "id": "9f4ef026",
   "metadata": {},
   "outputs": [
    {
     "data": {
      "text/plain": [
       "State Name    0\n",
       "Dist Name     0\n",
       "dtype: int64"
      ]
     },
     "execution_count": 60,
     "metadata": {},
     "output_type": "execute_result"
    }
   ],
   "source": [
    "non_numeric_cols.isnull().sum()"
   ]
  },
  {
   "cell_type": "code",
   "execution_count": 25,
   "id": "48d3a8c7",
   "metadata": {},
   "outputs": [],
   "source": [
    "numeric_cols = combine_df.drop('COTTON YIELD (Kg per ha)',axis=1).select_dtypes(include=np.number)"
   ]
  },
  {
   "cell_type": "code",
   "execution_count": 27,
   "id": "1a52433e",
   "metadata": {},
   "outputs": [
    {
     "data": {
      "text/plain": [
       "Year                                      0\n",
       "COTTON AREA (1000 ha)                   388\n",
       "COTTON PRODUCTION (1000 tons)           345\n",
       "JANUARY PERCIPITATION (Millimeters)     340\n",
       "FEBRUARY PERCIPITATION (Millimeters)    369\n",
       "                                       ... \n",
       "POTASH PER HA OF NCA (Kg per ha)        364\n",
       "POTASH PER HA OF GCA (Kg per ha)        356\n",
       "TOTAL CONSUMPTION (tons)                399\n",
       "TOTAL PER HA OF NCA (Kg per ha)         388\n",
       "TOTAL PER HA OF GCA (Kg per ha)         362\n",
       "Length: 100, dtype: int64"
      ]
     },
     "execution_count": 27,
     "metadata": {},
     "output_type": "execute_result"
    }
   ],
   "source": [
    "numeric_cols.isnull().sum()"
   ]
  },
  {
   "cell_type": "code",
   "execution_count": 39,
   "id": "5b681041",
   "metadata": {},
   "outputs": [],
   "source": [
    "from sklearn.experimental import enable_iterative_imputer\n",
    "from sklearn.impute import IterativeImputer\n",
    "from sklearn.linear_model import LinearRegression"
   ]
  },
  {
   "cell_type": "code",
   "execution_count": 41,
   "id": "8bc65114",
   "metadata": {},
   "outputs": [],
   "source": [
    "imputer=IterativeImputer(estimator=LinearRegression(),\n",
    "initial_strategy=\"mean\",\n",
    "max_iter=20)"
   ]
  },
  {
   "cell_type": "code",
   "execution_count": 42,
   "id": "c8da5be7",
   "metadata": {},
   "outputs": [],
   "source": [
    "numeric_cols_impute= imputer.fit_transform(numeric_cols)"
   ]
  },
  {
   "cell_type": "code",
   "execution_count": 43,
   "id": "31631115",
   "metadata": {},
   "outputs": [],
   "source": [
    "numeric_cols_impute = pd.DataFrame(numeric_cols_impute,columns=numeric_cols.columns)"
   ]
  },
  {
   "cell_type": "code",
   "execution_count": 44,
   "id": "4d89d91b",
   "metadata": {},
   "outputs": [
    {
     "data": {
      "text/html": [
       "<div>\n",
       "<style scoped>\n",
       "    .dataframe tbody tr th:only-of-type {\n",
       "        vertical-align: middle;\n",
       "    }\n",
       "\n",
       "    .dataframe tbody tr th {\n",
       "        vertical-align: top;\n",
       "    }\n",
       "\n",
       "    .dataframe thead th {\n",
       "        text-align: right;\n",
       "    }\n",
       "</style>\n",
       "<table border=\"1\" class=\"dataframe\">\n",
       "  <thead>\n",
       "    <tr style=\"text-align: right;\">\n",
       "      <th></th>\n",
       "      <th>Year</th>\n",
       "      <th>COTTON AREA (1000 ha)</th>\n",
       "      <th>COTTON PRODUCTION (1000 tons)</th>\n",
       "      <th>JANUARY PERCIPITATION (Millimeters)</th>\n",
       "      <th>FEBRUARY PERCIPITATION (Millimeters)</th>\n",
       "      <th>MARCH PERCIPITATION (Millimeters)</th>\n",
       "      <th>APRIL PERCIPITATION (Millimeters)</th>\n",
       "      <th>MAY PERCIPITATION (Millimeters)</th>\n",
       "      <th>JUNE PERCIPITATION (Millimeters)</th>\n",
       "      <th>JULY PERCIPITATION (Millimeters)</th>\n",
       "      <th>...</th>\n",
       "      <th>PHOSPHATE SHARE IN NPK (Percent)</th>\n",
       "      <th>PHOSPHATE PER HA OF NCA (Kg per ha)</th>\n",
       "      <th>PHOSPHATE PER HA OF GCA (Kg per ha)</th>\n",
       "      <th>POTASH CONSUMPTION (tons)</th>\n",
       "      <th>POTASH SHARE IN NPK (Percent)</th>\n",
       "      <th>POTASH PER HA OF NCA (Kg per ha)</th>\n",
       "      <th>POTASH PER HA OF GCA (Kg per ha)</th>\n",
       "      <th>TOTAL CONSUMPTION (tons)</th>\n",
       "      <th>TOTAL PER HA OF NCA (Kg per ha)</th>\n",
       "      <th>TOTAL PER HA OF GCA (Kg per ha)</th>\n",
       "    </tr>\n",
       "  </thead>\n",
       "  <tbody>\n",
       "    <tr>\n",
       "      <th>0</th>\n",
       "      <td>1990.0</td>\n",
       "      <td>0.0</td>\n",
       "      <td>0.00000</td>\n",
       "      <td>4.050000</td>\n",
       "      <td>50.750000</td>\n",
       "      <td>75.34</td>\n",
       "      <td>18.87</td>\n",
       "      <td>57.59</td>\n",
       "      <td>123.740000</td>\n",
       "      <td>153.980000</td>\n",
       "      <td>...</td>\n",
       "      <td>23.32000</td>\n",
       "      <td>19.79</td>\n",
       "      <td>15.90</td>\n",
       "      <td>1383.000000</td>\n",
       "      <td>12.013313</td>\n",
       "      <td>5.79</td>\n",
       "      <td>4.21</td>\n",
       "      <td>41684.000000</td>\n",
       "      <td>85.210000</td>\n",
       "      <td>67.77</td>\n",
       "    </tr>\n",
       "    <tr>\n",
       "      <th>1</th>\n",
       "      <td>1990.0</td>\n",
       "      <td>7.0</td>\n",
       "      <td>3.00000</td>\n",
       "      <td>-7.002492</td>\n",
       "      <td>54.030000</td>\n",
       "      <td>94.67</td>\n",
       "      <td>12.21</td>\n",
       "      <td>143.97</td>\n",
       "      <td>115.080000</td>\n",
       "      <td>167.310000</td>\n",
       "      <td>...</td>\n",
       "      <td>18.24000</td>\n",
       "      <td>15.43</td>\n",
       "      <td>11.63</td>\n",
       "      <td>1363.000000</td>\n",
       "      <td>4.030000</td>\n",
       "      <td>5.67</td>\n",
       "      <td>3.11</td>\n",
       "      <td>44809.000000</td>\n",
       "      <td>90.080000</td>\n",
       "      <td>73.74</td>\n",
       "    </tr>\n",
       "    <tr>\n",
       "      <th>2</th>\n",
       "      <td>1990.0</td>\n",
       "      <td>49.0</td>\n",
       "      <td>238.00000</td>\n",
       "      <td>3.280000</td>\n",
       "      <td>39.900000</td>\n",
       "      <td>68.64</td>\n",
       "      <td>8.12</td>\n",
       "      <td>207.71</td>\n",
       "      <td>131.980000</td>\n",
       "      <td>168.960000</td>\n",
       "      <td>...</td>\n",
       "      <td>19.69000</td>\n",
       "      <td>48.41</td>\n",
       "      <td>32.27</td>\n",
       "      <td>7882.000000</td>\n",
       "      <td>6.860000</td>\n",
       "      <td>19.71</td>\n",
       "      <td>13.31</td>\n",
       "      <td>99647.735194</td>\n",
       "      <td>303.240000</td>\n",
       "      <td>194.95</td>\n",
       "    </tr>\n",
       "    <tr>\n",
       "      <th>3</th>\n",
       "      <td>1990.0</td>\n",
       "      <td>26.0</td>\n",
       "      <td>120.00000</td>\n",
       "      <td>4.140000</td>\n",
       "      <td>43.940000</td>\n",
       "      <td>48.83</td>\n",
       "      <td>5.39</td>\n",
       "      <td>230.23</td>\n",
       "      <td>146.550000</td>\n",
       "      <td>275.811189</td>\n",
       "      <td>...</td>\n",
       "      <td>23.77042</td>\n",
       "      <td>89.59</td>\n",
       "      <td>64.73</td>\n",
       "      <td>18271.000000</td>\n",
       "      <td>14.010000</td>\n",
       "      <td>42.18</td>\n",
       "      <td>33.22</td>\n",
       "      <td>165898.000000</td>\n",
       "      <td>375.970000</td>\n",
       "      <td>266.35</td>\n",
       "    </tr>\n",
       "    <tr>\n",
       "      <th>4</th>\n",
       "      <td>1990.0</td>\n",
       "      <td>996.0</td>\n",
       "      <td>289.00000</td>\n",
       "      <td>1.180000</td>\n",
       "      <td>28.502693</td>\n",
       "      <td>32.47</td>\n",
       "      <td>2.26</td>\n",
       "      <td>236.77</td>\n",
       "      <td>192.530172</td>\n",
       "      <td>127.990000</td>\n",
       "      <td>...</td>\n",
       "      <td>28.12000</td>\n",
       "      <td>77.62</td>\n",
       "      <td>53.68</td>\n",
       "      <td>13052.827548</td>\n",
       "      <td>13.340000</td>\n",
       "      <td>29.04</td>\n",
       "      <td>21.79</td>\n",
       "      <td>139778.000000</td>\n",
       "      <td>282.953324</td>\n",
       "      <td>193.57</td>\n",
       "    </tr>\n",
       "    <tr>\n",
       "      <th>...</th>\n",
       "      <td>...</td>\n",
       "      <td>...</td>\n",
       "      <td>...</td>\n",
       "      <td>...</td>\n",
       "      <td>...</td>\n",
       "      <td>...</td>\n",
       "      <td>...</td>\n",
       "      <td>...</td>\n",
       "      <td>...</td>\n",
       "      <td>...</td>\n",
       "      <td>...</td>\n",
       "      <td>...</td>\n",
       "      <td>...</td>\n",
       "      <td>...</td>\n",
       "      <td>...</td>\n",
       "      <td>...</td>\n",
       "      <td>...</td>\n",
       "      <td>...</td>\n",
       "      <td>...</td>\n",
       "      <td>...</td>\n",
       "      <td>...</td>\n",
       "    </tr>\n",
       "    <tr>\n",
       "      <th>7176</th>\n",
       "      <td>2015.0</td>\n",
       "      <td>0.0</td>\n",
       "      <td>324.62753</td>\n",
       "      <td>23.374288</td>\n",
       "      <td>33.910000</td>\n",
       "      <td>28.31</td>\n",
       "      <td>181.83</td>\n",
       "      <td>315.05</td>\n",
       "      <td>733.260000</td>\n",
       "      <td>562.970000</td>\n",
       "      <td>...</td>\n",
       "      <td>24.42000</td>\n",
       "      <td>75.57</td>\n",
       "      <td>45.31</td>\n",
       "      <td>30574.000000</td>\n",
       "      <td>28.840000</td>\n",
       "      <td>94.70</td>\n",
       "      <td>55.89</td>\n",
       "      <td>123077.000000</td>\n",
       "      <td>369.160000</td>\n",
       "      <td>217.97</td>\n",
       "    </tr>\n",
       "    <tr>\n",
       "      <th>7177</th>\n",
       "      <td>2015.0</td>\n",
       "      <td>0.0</td>\n",
       "      <td>0.00000</td>\n",
       "      <td>29.890000</td>\n",
       "      <td>47.230000</td>\n",
       "      <td>33.53</td>\n",
       "      <td>191.11</td>\n",
       "      <td>233.87</td>\n",
       "      <td>600.920000</td>\n",
       "      <td>522.450000</td>\n",
       "      <td>...</td>\n",
       "      <td>0.00000</td>\n",
       "      <td>0.00</td>\n",
       "      <td>0.00</td>\n",
       "      <td>0.000000</td>\n",
       "      <td>0.000000</td>\n",
       "      <td>0.00</td>\n",
       "      <td>0.00</td>\n",
       "      <td>0.000000</td>\n",
       "      <td>0.000000</td>\n",
       "      <td>0.00</td>\n",
       "    </tr>\n",
       "    <tr>\n",
       "      <th>7178</th>\n",
       "      <td>2015.0</td>\n",
       "      <td>0.0</td>\n",
       "      <td>0.00000</td>\n",
       "      <td>26.290000</td>\n",
       "      <td>20.294841</td>\n",
       "      <td>15.06</td>\n",
       "      <td>53.32</td>\n",
       "      <td>79.15</td>\n",
       "      <td>284.050000</td>\n",
       "      <td>316.410000</td>\n",
       "      <td>...</td>\n",
       "      <td>27.74000</td>\n",
       "      <td>107.36</td>\n",
       "      <td>54.62</td>\n",
       "      <td>17626.000000</td>\n",
       "      <td>20.920000</td>\n",
       "      <td>75.39</td>\n",
       "      <td>41.51</td>\n",
       "      <td>104139.738702</td>\n",
       "      <td>441.580000</td>\n",
       "      <td>222.66</td>\n",
       "    </tr>\n",
       "    <tr>\n",
       "      <th>7179</th>\n",
       "      <td>2015.0</td>\n",
       "      <td>0.0</td>\n",
       "      <td>0.00000</td>\n",
       "      <td>19.890000</td>\n",
       "      <td>20.830000</td>\n",
       "      <td>24.05</td>\n",
       "      <td>148.61</td>\n",
       "      <td>360.22</td>\n",
       "      <td>543.413881</td>\n",
       "      <td>475.990000</td>\n",
       "      <td>...</td>\n",
       "      <td>30.05000</td>\n",
       "      <td>55.50</td>\n",
       "      <td>28.34</td>\n",
       "      <td>8378.000000</td>\n",
       "      <td>19.840000</td>\n",
       "      <td>33.75</td>\n",
       "      <td>18.12</td>\n",
       "      <td>46960.000000</td>\n",
       "      <td>185.620000</td>\n",
       "      <td>93.36</td>\n",
       "    </tr>\n",
       "    <tr>\n",
       "      <th>7180</th>\n",
       "      <td>2015.0</td>\n",
       "      <td>0.0</td>\n",
       "      <td>0.00000</td>\n",
       "      <td>11.270000</td>\n",
       "      <td>25.290000</td>\n",
       "      <td>23.43</td>\n",
       "      <td>50.31</td>\n",
       "      <td>32.21</td>\n",
       "      <td>205.330000</td>\n",
       "      <td>435.540000</td>\n",
       "      <td>...</td>\n",
       "      <td>30.97000</td>\n",
       "      <td>16.60</td>\n",
       "      <td>15.18</td>\n",
       "      <td>1500.000000</td>\n",
       "      <td>10.940000</td>\n",
       "      <td>6.84</td>\n",
       "      <td>7.37</td>\n",
       "      <td>15057.000000</td>\n",
       "      <td>51.700000</td>\n",
       "      <td>46.96</td>\n",
       "    </tr>\n",
       "  </tbody>\n",
       "</table>\n",
       "<p>7181 rows × 100 columns</p>\n",
       "</div>"
      ],
      "text/plain": [
       "        Year  COTTON AREA (1000 ha)  COTTON PRODUCTION (1000 tons)  \\\n",
       "0     1990.0                    0.0                        0.00000   \n",
       "1     1990.0                    7.0                        3.00000   \n",
       "2     1990.0                   49.0                      238.00000   \n",
       "3     1990.0                   26.0                      120.00000   \n",
       "4     1990.0                  996.0                      289.00000   \n",
       "...      ...                    ...                            ...   \n",
       "7176  2015.0                    0.0                      324.62753   \n",
       "7177  2015.0                    0.0                        0.00000   \n",
       "7178  2015.0                    0.0                        0.00000   \n",
       "7179  2015.0                    0.0                        0.00000   \n",
       "7180  2015.0                    0.0                        0.00000   \n",
       "\n",
       "      JANUARY PERCIPITATION (Millimeters)  \\\n",
       "0                                4.050000   \n",
       "1                               -7.002492   \n",
       "2                                3.280000   \n",
       "3                                4.140000   \n",
       "4                                1.180000   \n",
       "...                                   ...   \n",
       "7176                            23.374288   \n",
       "7177                            29.890000   \n",
       "7178                            26.290000   \n",
       "7179                            19.890000   \n",
       "7180                            11.270000   \n",
       "\n",
       "      FEBRUARY PERCIPITATION (Millimeters)  MARCH PERCIPITATION (Millimeters)  \\\n",
       "0                                50.750000                              75.34   \n",
       "1                                54.030000                              94.67   \n",
       "2                                39.900000                              68.64   \n",
       "3                                43.940000                              48.83   \n",
       "4                                28.502693                              32.47   \n",
       "...                                    ...                                ...   \n",
       "7176                             33.910000                              28.31   \n",
       "7177                             47.230000                              33.53   \n",
       "7178                             20.294841                              15.06   \n",
       "7179                             20.830000                              24.05   \n",
       "7180                             25.290000                              23.43   \n",
       "\n",
       "      APRIL PERCIPITATION (Millimeters)  MAY PERCIPITATION (Millimeters)  \\\n",
       "0                                 18.87                            57.59   \n",
       "1                                 12.21                           143.97   \n",
       "2                                  8.12                           207.71   \n",
       "3                                  5.39                           230.23   \n",
       "4                                  2.26                           236.77   \n",
       "...                                 ...                              ...   \n",
       "7176                             181.83                           315.05   \n",
       "7177                             191.11                           233.87   \n",
       "7178                              53.32                            79.15   \n",
       "7179                             148.61                           360.22   \n",
       "7180                              50.31                            32.21   \n",
       "\n",
       "      JUNE PERCIPITATION (Millimeters)  JULY PERCIPITATION (Millimeters)  ...  \\\n",
       "0                           123.740000                        153.980000  ...   \n",
       "1                           115.080000                        167.310000  ...   \n",
       "2                           131.980000                        168.960000  ...   \n",
       "3                           146.550000                        275.811189  ...   \n",
       "4                           192.530172                        127.990000  ...   \n",
       "...                                ...                               ...  ...   \n",
       "7176                        733.260000                        562.970000  ...   \n",
       "7177                        600.920000                        522.450000  ...   \n",
       "7178                        284.050000                        316.410000  ...   \n",
       "7179                        543.413881                        475.990000  ...   \n",
       "7180                        205.330000                        435.540000  ...   \n",
       "\n",
       "      PHOSPHATE SHARE IN NPK (Percent)  PHOSPHATE PER HA OF NCA (Kg per ha)  \\\n",
       "0                             23.32000                                19.79   \n",
       "1                             18.24000                                15.43   \n",
       "2                             19.69000                                48.41   \n",
       "3                             23.77042                                89.59   \n",
       "4                             28.12000                                77.62   \n",
       "...                                ...                                  ...   \n",
       "7176                          24.42000                                75.57   \n",
       "7177                           0.00000                                 0.00   \n",
       "7178                          27.74000                               107.36   \n",
       "7179                          30.05000                                55.50   \n",
       "7180                          30.97000                                16.60   \n",
       "\n",
       "      PHOSPHATE PER HA OF GCA (Kg per ha)  POTASH CONSUMPTION (tons)  \\\n",
       "0                                   15.90                1383.000000   \n",
       "1                                   11.63                1363.000000   \n",
       "2                                   32.27                7882.000000   \n",
       "3                                   64.73               18271.000000   \n",
       "4                                   53.68               13052.827548   \n",
       "...                                   ...                        ...   \n",
       "7176                                45.31               30574.000000   \n",
       "7177                                 0.00                   0.000000   \n",
       "7178                                54.62               17626.000000   \n",
       "7179                                28.34                8378.000000   \n",
       "7180                                15.18                1500.000000   \n",
       "\n",
       "      POTASH SHARE IN NPK (Percent)  POTASH PER HA OF NCA (Kg per ha)  \\\n",
       "0                         12.013313                              5.79   \n",
       "1                          4.030000                              5.67   \n",
       "2                          6.860000                             19.71   \n",
       "3                         14.010000                             42.18   \n",
       "4                         13.340000                             29.04   \n",
       "...                             ...                               ...   \n",
       "7176                      28.840000                             94.70   \n",
       "7177                       0.000000                              0.00   \n",
       "7178                      20.920000                             75.39   \n",
       "7179                      19.840000                             33.75   \n",
       "7180                      10.940000                              6.84   \n",
       "\n",
       "      POTASH PER HA OF GCA (Kg per ha)  TOTAL CONSUMPTION (tons)  \\\n",
       "0                                 4.21              41684.000000   \n",
       "1                                 3.11              44809.000000   \n",
       "2                                13.31              99647.735194   \n",
       "3                                33.22             165898.000000   \n",
       "4                                21.79             139778.000000   \n",
       "...                                ...                       ...   \n",
       "7176                             55.89             123077.000000   \n",
       "7177                              0.00                  0.000000   \n",
       "7178                             41.51             104139.738702   \n",
       "7179                             18.12              46960.000000   \n",
       "7180                              7.37              15057.000000   \n",
       "\n",
       "      TOTAL PER HA OF NCA (Kg per ha)  TOTAL PER HA OF GCA (Kg per ha)  \n",
       "0                           85.210000                            67.77  \n",
       "1                           90.080000                            73.74  \n",
       "2                          303.240000                           194.95  \n",
       "3                          375.970000                           266.35  \n",
       "4                          282.953324                           193.57  \n",
       "...                               ...                              ...  \n",
       "7176                       369.160000                           217.97  \n",
       "7177                         0.000000                             0.00  \n",
       "7178                       441.580000                           222.66  \n",
       "7179                       185.620000                            93.36  \n",
       "7180                        51.700000                            46.96  \n",
       "\n",
       "[7181 rows x 100 columns]"
      ]
     },
     "execution_count": 44,
     "metadata": {},
     "output_type": "execute_result"
    }
   ],
   "source": [
    "numeric_cols_impute"
   ]
  },
  {
   "cell_type": "code",
   "execution_count": 68,
   "id": "c540906c",
   "metadata": {},
   "outputs": [],
   "source": [
    "from sklearn.preprocessing import StandardScaler"
   ]
  },
  {
   "cell_type": "code",
   "execution_count": 69,
   "id": "28ae2038",
   "metadata": {},
   "outputs": [],
   "source": [
    "sc = StandardScaler()"
   ]
  },
  {
   "cell_type": "code",
   "execution_count": 77,
   "id": "678dc769",
   "metadata": {},
   "outputs": [],
   "source": [
    "numeric_cols_impute_scaled = sc.fit_transform(numeric_cols_impute)"
   ]
  },
  {
   "cell_type": "code",
   "execution_count": 78,
   "id": "6e1b79e8",
   "metadata": {},
   "outputs": [],
   "source": [
    "numeric_cols_impute_scaled = pd.DataFrame(numeric_cols_impute_scaled,columns=numeric_cols_impute.columns)"
   ]
  },
  {
   "cell_type": "code",
   "execution_count": 79,
   "id": "a9583219",
   "metadata": {},
   "outputs": [
    {
     "data": {
      "text/html": [
       "<div>\n",
       "<style scoped>\n",
       "    .dataframe tbody tr th:only-of-type {\n",
       "        vertical-align: middle;\n",
       "    }\n",
       "\n",
       "    .dataframe tbody tr th {\n",
       "        vertical-align: top;\n",
       "    }\n",
       "\n",
       "    .dataframe thead th {\n",
       "        text-align: right;\n",
       "    }\n",
       "</style>\n",
       "<table border=\"1\" class=\"dataframe\">\n",
       "  <thead>\n",
       "    <tr style=\"text-align: right;\">\n",
       "      <th></th>\n",
       "      <th>Year</th>\n",
       "      <th>COTTON AREA (1000 ha)</th>\n",
       "      <th>COTTON PRODUCTION (1000 tons)</th>\n",
       "      <th>JANUARY PERCIPITATION (Millimeters)</th>\n",
       "      <th>FEBRUARY PERCIPITATION (Millimeters)</th>\n",
       "      <th>MARCH PERCIPITATION (Millimeters)</th>\n",
       "      <th>APRIL PERCIPITATION (Millimeters)</th>\n",
       "      <th>MAY PERCIPITATION (Millimeters)</th>\n",
       "      <th>JUNE PERCIPITATION (Millimeters)</th>\n",
       "      <th>JULY PERCIPITATION (Millimeters)</th>\n",
       "      <th>...</th>\n",
       "      <th>PHOSPHATE SHARE IN NPK (Percent)</th>\n",
       "      <th>PHOSPHATE PER HA OF NCA (Kg per ha)</th>\n",
       "      <th>PHOSPHATE PER HA OF GCA (Kg per ha)</th>\n",
       "      <th>POTASH CONSUMPTION (tons)</th>\n",
       "      <th>POTASH SHARE IN NPK (Percent)</th>\n",
       "      <th>POTASH PER HA OF NCA (Kg per ha)</th>\n",
       "      <th>POTASH PER HA OF GCA (Kg per ha)</th>\n",
       "      <th>TOTAL CONSUMPTION (tons)</th>\n",
       "      <th>TOTAL PER HA OF NCA (Kg per ha)</th>\n",
       "      <th>TOTAL PER HA OF GCA (Kg per ha)</th>\n",
       "    </tr>\n",
       "  </thead>\n",
       "  <tbody>\n",
       "    <tr>\n",
       "      <th>0</th>\n",
       "      <td>-1.670652</td>\n",
       "      <td>-0.278112</td>\n",
       "      <td>-0.308056</td>\n",
       "      <td>-0.537943</td>\n",
       "      <td>1.224425</td>\n",
       "      <td>1.664662</td>\n",
       "      <td>-0.200909</td>\n",
       "      <td>0.073011</td>\n",
       "      <td>-0.177960</td>\n",
       "      <td>-0.677264</td>\n",
       "      <td>...</td>\n",
       "      <td>-0.539982</td>\n",
       "      <td>-0.609129</td>\n",
       "      <td>-0.587687</td>\n",
       "      <td>-0.536276</td>\n",
       "      <td>-0.017685</td>\n",
       "      <td>-0.544757</td>\n",
       "      <td>-0.603599</td>\n",
       "      <td>-0.332250</td>\n",
       "      <td>-0.515356</td>\n",
       "      <td>-0.458549</td>\n",
       "    </tr>\n",
       "    <tr>\n",
       "      <th>1</th>\n",
       "      <td>-1.670652</td>\n",
       "      <td>-0.275724</td>\n",
       "      <td>-0.306706</td>\n",
       "      <td>-0.978367</td>\n",
       "      <td>1.343378</td>\n",
       "      <td>2.267415</td>\n",
       "      <td>-0.335083</td>\n",
       "      <td>1.046574</td>\n",
       "      <td>-0.223300</td>\n",
       "      <td>-0.621601</td>\n",
       "      <td>...</td>\n",
       "      <td>-1.094442</td>\n",
       "      <td>-0.757708</td>\n",
       "      <td>-0.815074</td>\n",
       "      <td>-0.538765</td>\n",
       "      <td>-0.818678</td>\n",
       "      <td>-0.550665</td>\n",
       "      <td>-0.680519</td>\n",
       "      <td>-0.276682</td>\n",
       "      <td>-0.474082</td>\n",
       "      <td>-0.376877</td>\n",
       "    </tr>\n",
       "    <tr>\n",
       "      <th>2</th>\n",
       "      <td>-1.670652</td>\n",
       "      <td>-0.261400</td>\n",
       "      <td>-0.200952</td>\n",
       "      <td>-0.568627</td>\n",
       "      <td>0.830937</td>\n",
       "      <td>1.455741</td>\n",
       "      <td>-0.417482</td>\n",
       "      <td>1.764968</td>\n",
       "      <td>-0.134819</td>\n",
       "      <td>-0.614711</td>\n",
       "      <td>...</td>\n",
       "      <td>-0.936181</td>\n",
       "      <td>0.366177</td>\n",
       "      <td>0.284049</td>\n",
       "      <td>0.272353</td>\n",
       "      <td>-0.534735</td>\n",
       "      <td>0.140586</td>\n",
       "      <td>0.032743</td>\n",
       "      <td>0.698448</td>\n",
       "      <td>1.332500</td>\n",
       "      <td>1.281330</td>\n",
       "    </tr>\n",
       "    <tr>\n",
       "      <th>3</th>\n",
       "      <td>-1.670652</td>\n",
       "      <td>-0.269244</td>\n",
       "      <td>-0.254054</td>\n",
       "      <td>-0.534357</td>\n",
       "      <td>0.977452</td>\n",
       "      <td>0.838021</td>\n",
       "      <td>-0.472481</td>\n",
       "      <td>2.018784</td>\n",
       "      <td>-0.058536</td>\n",
       "      <td>-0.168525</td>\n",
       "      <td>...</td>\n",
       "      <td>-0.490821</td>\n",
       "      <td>1.769499</td>\n",
       "      <td>2.012612</td>\n",
       "      <td>1.564989</td>\n",
       "      <td>0.182649</td>\n",
       "      <td>1.246884</td>\n",
       "      <td>1.425004</td>\n",
       "      <td>1.876494</td>\n",
       "      <td>1.948903</td>\n",
       "      <td>2.258113</td>\n",
       "    </tr>\n",
       "    <tr>\n",
       "      <th>4</th>\n",
       "      <td>-1.670652</td>\n",
       "      <td>0.061581</td>\n",
       "      <td>-0.178001</td>\n",
       "      <td>-0.652308</td>\n",
       "      <td>0.417600</td>\n",
       "      <td>0.327879</td>\n",
       "      <td>-0.535539</td>\n",
       "      <td>2.092494</td>\n",
       "      <td>0.182196</td>\n",
       "      <td>-0.785792</td>\n",
       "      <td>...</td>\n",
       "      <td>-0.016083</td>\n",
       "      <td>1.361588</td>\n",
       "      <td>1.424177</td>\n",
       "      <td>0.915726</td>\n",
       "      <td>0.115426</td>\n",
       "      <td>0.599943</td>\n",
       "      <td>0.625730</td>\n",
       "      <td>1.412034</td>\n",
       "      <td>1.160565</td>\n",
       "      <td>1.262451</td>\n",
       "    </tr>\n",
       "    <tr>\n",
       "      <th>...</th>\n",
       "      <td>...</td>\n",
       "      <td>...</td>\n",
       "      <td>...</td>\n",
       "      <td>...</td>\n",
       "      <td>...</td>\n",
       "      <td>...</td>\n",
       "      <td>...</td>\n",
       "      <td>...</td>\n",
       "      <td>...</td>\n",
       "      <td>...</td>\n",
       "      <td>...</td>\n",
       "      <td>...</td>\n",
       "      <td>...</td>\n",
       "      <td>...</td>\n",
       "      <td>...</td>\n",
       "      <td>...</td>\n",
       "      <td>...</td>\n",
       "      <td>...</td>\n",
       "      <td>...</td>\n",
       "      <td>...</td>\n",
       "      <td>...</td>\n",
       "    </tr>\n",
       "    <tr>\n",
       "      <th>7176</th>\n",
       "      <td>1.672980</td>\n",
       "      <td>-0.278112</td>\n",
       "      <td>-0.161968</td>\n",
       "      <td>0.232098</td>\n",
       "      <td>0.613702</td>\n",
       "      <td>0.198161</td>\n",
       "      <td>3.082136</td>\n",
       "      <td>2.974765</td>\n",
       "      <td>3.013229</td>\n",
       "      <td>1.030583</td>\n",
       "      <td>...</td>\n",
       "      <td>-0.419922</td>\n",
       "      <td>1.291729</td>\n",
       "      <td>0.978457</td>\n",
       "      <td>3.095773</td>\n",
       "      <td>1.670594</td>\n",
       "      <td>3.832676</td>\n",
       "      <td>3.010265</td>\n",
       "      <td>1.115061</td>\n",
       "      <td>1.891187</td>\n",
       "      <td>1.596253</td>\n",
       "    </tr>\n",
       "    <tr>\n",
       "      <th>7177</th>\n",
       "      <td>1.672980</td>\n",
       "      <td>-0.278112</td>\n",
       "      <td>-0.308056</td>\n",
       "      <td>0.491738</td>\n",
       "      <td>1.096768</td>\n",
       "      <td>0.360932</td>\n",
       "      <td>3.269094</td>\n",
       "      <td>2.059809</td>\n",
       "      <td>2.320352</td>\n",
       "      <td>0.861381</td>\n",
       "      <td>...</td>\n",
       "      <td>-3.085259</td>\n",
       "      <td>-1.283527</td>\n",
       "      <td>-1.434396</td>\n",
       "      <td>-0.708354</td>\n",
       "      <td>-1.223022</td>\n",
       "      <td>-0.829825</td>\n",
       "      <td>-0.897995</td>\n",
       "      <td>-1.073464</td>\n",
       "      <td>-1.237531</td>\n",
       "      <td>-1.385673</td>\n",
       "    </tr>\n",
       "    <tr>\n",
       "      <th>7178</th>\n",
       "      <td>1.672980</td>\n",
       "      <td>-0.278112</td>\n",
       "      <td>-0.308056</td>\n",
       "      <td>0.348284</td>\n",
       "      <td>0.119932</td>\n",
       "      <td>-0.215004</td>\n",
       "      <td>0.493132</td>\n",
       "      <td>0.316007</td>\n",
       "      <td>0.661355</td>\n",
       "      <td>0.001006</td>\n",
       "      <td>...</td>\n",
       "      <td>-0.057558</td>\n",
       "      <td>2.375060</td>\n",
       "      <td>1.474234</td>\n",
       "      <td>1.484736</td>\n",
       "      <td>0.875953</td>\n",
       "      <td>2.881959</td>\n",
       "      <td>2.004705</td>\n",
       "      <td>0.778323</td>\n",
       "      <td>2.504964</td>\n",
       "      <td>1.660415</td>\n",
       "    </tr>\n",
       "    <tr>\n",
       "      <th>7179</th>\n",
       "      <td>1.672980</td>\n",
       "      <td>-0.278112</td>\n",
       "      <td>-0.308056</td>\n",
       "      <td>0.093255</td>\n",
       "      <td>0.139340</td>\n",
       "      <td>0.065324</td>\n",
       "      <td>2.412875</td>\n",
       "      <td>3.483862</td>\n",
       "      <td>2.019275</td>\n",
       "      <td>0.667375</td>\n",
       "      <td>...</td>\n",
       "      <td>0.194568</td>\n",
       "      <td>0.607788</td>\n",
       "      <td>0.074769</td>\n",
       "      <td>0.334067</td>\n",
       "      <td>0.767593</td>\n",
       "      <td>0.831837</td>\n",
       "      <td>0.369096</td>\n",
       "      <td>-0.238433</td>\n",
       "      <td>0.335642</td>\n",
       "      <td>-0.108467</td>\n",
       "    </tr>\n",
       "    <tr>\n",
       "      <th>7180</th>\n",
       "      <td>1.672980</td>\n",
       "      <td>-0.278112</td>\n",
       "      <td>-0.308056</td>\n",
       "      <td>-0.250238</td>\n",
       "      <td>0.301088</td>\n",
       "      <td>0.045991</td>\n",
       "      <td>0.432492</td>\n",
       "      <td>-0.213039</td>\n",
       "      <td>0.249211</td>\n",
       "      <td>0.498465</td>\n",
       "      <td>...</td>\n",
       "      <td>0.294982</td>\n",
       "      <td>-0.717837</td>\n",
       "      <td>-0.626029</td>\n",
       "      <td>-0.521719</td>\n",
       "      <td>-0.125374</td>\n",
       "      <td>-0.493061</td>\n",
       "      <td>-0.382627</td>\n",
       "      <td>-0.805724</td>\n",
       "      <td>-0.799361</td>\n",
       "      <td>-0.743239</td>\n",
       "    </tr>\n",
       "  </tbody>\n",
       "</table>\n",
       "<p>7181 rows × 100 columns</p>\n",
       "</div>"
      ],
      "text/plain": [
       "          Year  COTTON AREA (1000 ha)  COTTON PRODUCTION (1000 tons)  \\\n",
       "0    -1.670652              -0.278112                      -0.308056   \n",
       "1    -1.670652              -0.275724                      -0.306706   \n",
       "2    -1.670652              -0.261400                      -0.200952   \n",
       "3    -1.670652              -0.269244                      -0.254054   \n",
       "4    -1.670652               0.061581                      -0.178001   \n",
       "...        ...                    ...                            ...   \n",
       "7176  1.672980              -0.278112                      -0.161968   \n",
       "7177  1.672980              -0.278112                      -0.308056   \n",
       "7178  1.672980              -0.278112                      -0.308056   \n",
       "7179  1.672980              -0.278112                      -0.308056   \n",
       "7180  1.672980              -0.278112                      -0.308056   \n",
       "\n",
       "      JANUARY PERCIPITATION (Millimeters)  \\\n",
       "0                               -0.537943   \n",
       "1                               -0.978367   \n",
       "2                               -0.568627   \n",
       "3                               -0.534357   \n",
       "4                               -0.652308   \n",
       "...                                   ...   \n",
       "7176                             0.232098   \n",
       "7177                             0.491738   \n",
       "7178                             0.348284   \n",
       "7179                             0.093255   \n",
       "7180                            -0.250238   \n",
       "\n",
       "      FEBRUARY PERCIPITATION (Millimeters)  MARCH PERCIPITATION (Millimeters)  \\\n",
       "0                                 1.224425                           1.664662   \n",
       "1                                 1.343378                           2.267415   \n",
       "2                                 0.830937                           1.455741   \n",
       "3                                 0.977452                           0.838021   \n",
       "4                                 0.417600                           0.327879   \n",
       "...                                    ...                                ...   \n",
       "7176                              0.613702                           0.198161   \n",
       "7177                              1.096768                           0.360932   \n",
       "7178                              0.119932                          -0.215004   \n",
       "7179                              0.139340                           0.065324   \n",
       "7180                              0.301088                           0.045991   \n",
       "\n",
       "      APRIL PERCIPITATION (Millimeters)  MAY PERCIPITATION (Millimeters)  \\\n",
       "0                             -0.200909                         0.073011   \n",
       "1                             -0.335083                         1.046574   \n",
       "2                             -0.417482                         1.764968   \n",
       "3                             -0.472481                         2.018784   \n",
       "4                             -0.535539                         2.092494   \n",
       "...                                 ...                              ...   \n",
       "7176                           3.082136                         2.974765   \n",
       "7177                           3.269094                         2.059809   \n",
       "7178                           0.493132                         0.316007   \n",
       "7179                           2.412875                         3.483862   \n",
       "7180                           0.432492                        -0.213039   \n",
       "\n",
       "      JUNE PERCIPITATION (Millimeters)  JULY PERCIPITATION (Millimeters)  ...  \\\n",
       "0                            -0.177960                         -0.677264  ...   \n",
       "1                            -0.223300                         -0.621601  ...   \n",
       "2                            -0.134819                         -0.614711  ...   \n",
       "3                            -0.058536                         -0.168525  ...   \n",
       "4                             0.182196                         -0.785792  ...   \n",
       "...                                ...                               ...  ...   \n",
       "7176                          3.013229                          1.030583  ...   \n",
       "7177                          2.320352                          0.861381  ...   \n",
       "7178                          0.661355                          0.001006  ...   \n",
       "7179                          2.019275                          0.667375  ...   \n",
       "7180                          0.249211                          0.498465  ...   \n",
       "\n",
       "      PHOSPHATE SHARE IN NPK (Percent)  PHOSPHATE PER HA OF NCA (Kg per ha)  \\\n",
       "0                            -0.539982                            -0.609129   \n",
       "1                            -1.094442                            -0.757708   \n",
       "2                            -0.936181                             0.366177   \n",
       "3                            -0.490821                             1.769499   \n",
       "4                            -0.016083                             1.361588   \n",
       "...                                ...                                  ...   \n",
       "7176                         -0.419922                             1.291729   \n",
       "7177                         -3.085259                            -1.283527   \n",
       "7178                         -0.057558                             2.375060   \n",
       "7179                          0.194568                             0.607788   \n",
       "7180                          0.294982                            -0.717837   \n",
       "\n",
       "      PHOSPHATE PER HA OF GCA (Kg per ha)  POTASH CONSUMPTION (tons)  \\\n",
       "0                               -0.587687                  -0.536276   \n",
       "1                               -0.815074                  -0.538765   \n",
       "2                                0.284049                   0.272353   \n",
       "3                                2.012612                   1.564989   \n",
       "4                                1.424177                   0.915726   \n",
       "...                                   ...                        ...   \n",
       "7176                             0.978457                   3.095773   \n",
       "7177                            -1.434396                  -0.708354   \n",
       "7178                             1.474234                   1.484736   \n",
       "7179                             0.074769                   0.334067   \n",
       "7180                            -0.626029                  -0.521719   \n",
       "\n",
       "      POTASH SHARE IN NPK (Percent)  POTASH PER HA OF NCA (Kg per ha)  \\\n",
       "0                         -0.017685                         -0.544757   \n",
       "1                         -0.818678                         -0.550665   \n",
       "2                         -0.534735                          0.140586   \n",
       "3                          0.182649                          1.246884   \n",
       "4                          0.115426                          0.599943   \n",
       "...                             ...                               ...   \n",
       "7176                       1.670594                          3.832676   \n",
       "7177                      -1.223022                         -0.829825   \n",
       "7178                       0.875953                          2.881959   \n",
       "7179                       0.767593                          0.831837   \n",
       "7180                      -0.125374                         -0.493061   \n",
       "\n",
       "      POTASH PER HA OF GCA (Kg per ha)  TOTAL CONSUMPTION (tons)  \\\n",
       "0                            -0.603599                 -0.332250   \n",
       "1                            -0.680519                 -0.276682   \n",
       "2                             0.032743                  0.698448   \n",
       "3                             1.425004                  1.876494   \n",
       "4                             0.625730                  1.412034   \n",
       "...                                ...                       ...   \n",
       "7176                          3.010265                  1.115061   \n",
       "7177                         -0.897995                 -1.073464   \n",
       "7178                          2.004705                  0.778323   \n",
       "7179                          0.369096                 -0.238433   \n",
       "7180                         -0.382627                 -0.805724   \n",
       "\n",
       "      TOTAL PER HA OF NCA (Kg per ha)  TOTAL PER HA OF GCA (Kg per ha)  \n",
       "0                           -0.515356                        -0.458549  \n",
       "1                           -0.474082                        -0.376877  \n",
       "2                            1.332500                         1.281330  \n",
       "3                            1.948903                         2.258113  \n",
       "4                            1.160565                         1.262451  \n",
       "...                               ...                              ...  \n",
       "7176                         1.891187                         1.596253  \n",
       "7177                        -1.237531                        -1.385673  \n",
       "7178                         2.504964                         1.660415  \n",
       "7179                         0.335642                        -0.108467  \n",
       "7180                        -0.799361                        -0.743239  \n",
       "\n",
       "[7181 rows x 100 columns]"
      ]
     },
     "execution_count": 79,
     "metadata": {},
     "output_type": "execute_result"
    }
   ],
   "source": [
    "numeric_cols_impute_scaled"
   ]
  },
  {
   "cell_type": "code",
   "execution_count": 54,
   "id": "e7e5a39a",
   "metadata": {},
   "outputs": [],
   "source": [
    "from sklearn.preprocessing import OneHotEncoder"
   ]
  },
  {
   "cell_type": "code",
   "execution_count": 55,
   "id": "003f6b6a",
   "metadata": {},
   "outputs": [],
   "source": [
    "ohe = OneHotEncoder()"
   ]
  },
  {
   "cell_type": "code",
   "execution_count": 85,
   "id": "7f836ba8",
   "metadata": {},
   "outputs": [],
   "source": [
    "non_numeric_cols_encoded = non_numeric_cols.apply(LabelEncoder().fit_transform)"
   ]
  },
  {
   "cell_type": "code",
   "execution_count": 86,
   "id": "3484c30f",
   "metadata": {},
   "outputs": [],
   "source": [
    "non_numeric_cols_encoded = pd.DataFrame(non_numeric_cols_encoded)"
   ]
  },
  {
   "cell_type": "code",
   "execution_count": 87,
   "id": "6b29af2b",
   "metadata": {},
   "outputs": [],
   "source": [
    "non_numeric_cols_encoded.reset_index(inplace=True)"
   ]
  },
  {
   "cell_type": "code",
   "execution_count": 89,
   "id": "acc64209",
   "metadata": {},
   "outputs": [],
   "source": [
    "non_numeric_cols_encoded.drop('index',axis=1,inplace=True)"
   ]
  },
  {
   "cell_type": "code",
   "execution_count": 93,
   "id": "7b0506f5",
   "metadata": {},
   "outputs": [],
   "source": [
    "X = pd.concat([numeric_cols_impute_scaled,non_numeric_cols_encoded],axis=1)"
   ]
  },
  {
   "cell_type": "code",
   "execution_count": 99,
   "id": "f412e429",
   "metadata": {},
   "outputs": [],
   "source": [
    "combine_df.reset_index(inplace=True)"
   ]
  },
  {
   "cell_type": "code",
   "execution_count": 100,
   "id": "8b62af65",
   "metadata": {},
   "outputs": [],
   "source": [
    "combine_df.drop('index',axis=1,inplace=True)"
   ]
  },
  {
   "cell_type": "code",
   "execution_count": 101,
   "id": "c38fafe4",
   "metadata": {},
   "outputs": [],
   "source": [
    "X['COTTON YIELD (Kg per ha)'] = combine_df['COTTON YIELD (Kg per ha)']"
   ]
  },
  {
   "cell_type": "code",
   "execution_count": 108,
   "id": "4a4c5f8a",
   "metadata": {},
   "outputs": [],
   "source": [
    "X_train = X[X['COTTON YIELD (Kg per ha)'] != 'test'].drop('COTTON YIELD (Kg per ha)',axis=1)\n",
    "X_test = X[X['COTTON YIELD (Kg per ha)'] == 'test'].drop('COTTON YIELD (Kg per ha)',axis=1)"
   ]
  },
  {
   "cell_type": "code",
   "execution_count": 109,
   "id": "ca182077",
   "metadata": {},
   "outputs": [
    {
     "data": {
      "text/plain": [
       "((4705, 102), (2476, 102))"
      ]
     },
     "execution_count": 109,
     "metadata": {},
     "output_type": "execute_result"
    }
   ],
   "source": [
    "X_train.shape,X_test.shape"
   ]
  },
  {
   "cell_type": "code",
   "execution_count": 110,
   "id": "f08ee135",
   "metadata": {},
   "outputs": [],
   "source": [
    "y_train = X[X['COTTON YIELD (Kg per ha)'] != 'test']['COTTON YIELD (Kg per ha)']"
   ]
  },
  {
   "cell_type": "code",
   "execution_count": 112,
   "id": "38e33241",
   "metadata": {},
   "outputs": [],
   "source": [
    "from sklearn.linear_model import LinearRegression"
   ]
  },
  {
   "cell_type": "code",
   "execution_count": 113,
   "id": "510ba3ed",
   "metadata": {},
   "outputs": [],
   "source": [
    "lr = LinearRegression()"
   ]
  },
  {
   "cell_type": "code",
   "execution_count": 114,
   "id": "f7326be1",
   "metadata": {},
   "outputs": [],
   "source": [
    "lr_model = lr.fit(X_train,y_train)"
   ]
  },
  {
   "cell_type": "code",
   "execution_count": 115,
   "id": "196e57e6",
   "metadata": {},
   "outputs": [
    {
     "data": {
      "text/plain": [
       "0.3334080028279257"
      ]
     },
     "execution_count": 115,
     "metadata": {},
     "output_type": "execute_result"
    }
   ],
   "source": [
    "lr_model.score(X_train,y_train)"
   ]
  },
  {
   "cell_type": "code",
   "execution_count": 116,
   "id": "615ecb97",
   "metadata": {},
   "outputs": [],
   "source": [
    "from sklearn.tree import DecisionTreeRegressor"
   ]
  },
  {
   "cell_type": "code",
   "execution_count": 138,
   "id": "e15f4ce5",
   "metadata": {},
   "outputs": [],
   "source": [
    "dt = DecisionTreeRegressor(max_depth=8)"
   ]
  },
  {
   "cell_type": "code",
   "execution_count": 139,
   "id": "12801367",
   "metadata": {},
   "outputs": [],
   "source": [
    "dt_model = dt.fit(X_train,y_train)"
   ]
  },
  {
   "cell_type": "code",
   "execution_count": 140,
   "id": "57355e8d",
   "metadata": {},
   "outputs": [
    {
     "data": {
      "text/plain": [
       "0.9138376727269211"
      ]
     },
     "execution_count": 140,
     "metadata": {},
     "output_type": "execute_result"
    }
   ],
   "source": [
    "dt_model.score(X_train,y_train)"
   ]
  },
  {
   "cell_type": "code",
   "execution_count": 125,
   "id": "5dd6a08a",
   "metadata": {},
   "outputs": [],
   "source": [
    "from sklearn.model_selection import cross_val_score"
   ]
  },
  {
   "cell_type": "code",
   "execution_count": 141,
   "id": "a15ce7e2",
   "metadata": {},
   "outputs": [
    {
     "data": {
      "text/plain": [
       "0.46651862383671006"
      ]
     },
     "execution_count": 141,
     "metadata": {},
     "output_type": "execute_result"
    }
   ],
   "source": [
    "np.mean(cross_val_score(dt,X_train,y_train))"
   ]
  },
  {
   "cell_type": "code",
   "execution_count": 142,
   "id": "16c51e0d",
   "metadata": {},
   "outputs": [],
   "source": [
    "from sklearn.ensemble import RandomForestRegressor"
   ]
  },
  {
   "cell_type": "code",
   "execution_count": 147,
   "id": "01b21713",
   "metadata": {},
   "outputs": [],
   "source": [
    "rf = RandomForestRegressor(max_features='sqrt')"
   ]
  },
  {
   "cell_type": "code",
   "execution_count": 148,
   "id": "93c6db83",
   "metadata": {},
   "outputs": [],
   "source": [
    "rf_model = rf.fit(X_train,y_train)"
   ]
  },
  {
   "cell_type": "code",
   "execution_count": 149,
   "id": "576d8f7c",
   "metadata": {},
   "outputs": [
    {
     "data": {
      "text/plain": [
       "0.948153537637414"
      ]
     },
     "execution_count": 149,
     "metadata": {},
     "output_type": "execute_result"
    }
   ],
   "source": [
    "rf_model.score(X_train,y_train)"
   ]
  },
  {
   "cell_type": "code",
   "execution_count": 150,
   "id": "19dfbb75",
   "metadata": {},
   "outputs": [
    {
     "data": {
      "text/plain": [
       "0.6155584846543041"
      ]
     },
     "execution_count": 150,
     "metadata": {},
     "output_type": "execute_result"
    }
   ],
   "source": [
    "np.mean(cross_val_score(rf,X_train,y_train))"
   ]
  },
  {
   "cell_type": "code",
   "execution_count": 151,
   "id": "31a4d791",
   "metadata": {},
   "outputs": [],
   "source": [
    "from sklearn.ensemble import GradientBoostingRegressor"
   ]
  },
  {
   "cell_type": "code",
   "execution_count": 152,
   "id": "29226bd3",
   "metadata": {},
   "outputs": [],
   "source": [
    "gb = GradientBoostingRegressor()"
   ]
  },
  {
   "cell_type": "code",
   "execution_count": 153,
   "id": "9569310c",
   "metadata": {},
   "outputs": [],
   "source": [
    "gb_model = gb.fit(X_train,y_train)"
   ]
  },
  {
   "cell_type": "code",
   "execution_count": 154,
   "id": "3ac13247",
   "metadata": {},
   "outputs": [
    {
     "data": {
      "text/plain": [
       "0.8978844394486926"
      ]
     },
     "execution_count": 154,
     "metadata": {},
     "output_type": "execute_result"
    }
   ],
   "source": [
    "gb_model.score(X_train,y_train)"
   ]
  },
  {
   "cell_type": "code",
   "execution_count": 155,
   "id": "801981d1",
   "metadata": {},
   "outputs": [
    {
     "data": {
      "text/plain": [
       "0.6255238065686066"
      ]
     },
     "execution_count": 155,
     "metadata": {},
     "output_type": "execute_result"
    }
   ],
   "source": [
    "np.mean(cross_val_score(gb,X_train,y_train))"
   ]
  },
  {
   "cell_type": "code",
   "execution_count": 156,
   "id": "807da17a",
   "metadata": {},
   "outputs": [],
   "source": [
    "gb_pred = pd.DataFrame(gb_model.predict(X_test))"
   ]
  },
  {
   "cell_type": "code",
   "execution_count": 158,
   "id": "59345c01",
   "metadata": {},
   "outputs": [],
   "source": [
    "rf_pred = pd.DataFrame(rf_model.predict(X_test))"
   ]
  },
  {
   "cell_type": "code",
   "execution_count": 161,
   "id": "2d9b0a78",
   "metadata": {},
   "outputs": [],
   "source": [
    "submission['COTTON YIELD (Kg per ha)'] = gb_pred"
   ]
  },
  {
   "cell_type": "code",
   "execution_count": 165,
   "id": "68a87171",
   "metadata": {},
   "outputs": [],
   "source": [
    "submission = submission.fillna(0)"
   ]
  },
  {
   "cell_type": "code",
   "execution_count": 167,
   "id": "14b6821f",
   "metadata": {},
   "outputs": [],
   "source": [
    "submission.to_csv('v3.csv',index=False)"
   ]
  },
  {
   "cell_type": "code",
   "execution_count": null,
   "id": "0168d8e5",
   "metadata": {},
   "outputs": [],
   "source": []
  },
  {
   "cell_type": "code",
   "execution_count": null,
   "id": "c8902b12",
   "metadata": {},
   "outputs": [],
   "source": []
  },
  {
   "cell_type": "code",
   "execution_count": null,
   "id": "083e7a9d",
   "metadata": {},
   "outputs": [],
   "source": []
  },
  {
   "cell_type": "code",
   "execution_count": null,
   "id": "17478f7f",
   "metadata": {},
   "outputs": [],
   "source": []
  },
  {
   "cell_type": "code",
   "execution_count": null,
   "id": "ca4e367f",
   "metadata": {},
   "outputs": [],
   "source": []
  },
  {
   "cell_type": "code",
   "execution_count": null,
   "id": "756e1eeb",
   "metadata": {},
   "outputs": [],
   "source": []
  },
  {
   "cell_type": "code",
   "execution_count": null,
   "id": "d5eb72cb",
   "metadata": {},
   "outputs": [],
   "source": []
  }
 ],
 "metadata": {
  "kernelspec": {
   "display_name": "Python 3 (ipykernel)",
   "language": "python",
   "name": "python3"
  },
  "language_info": {
   "codemirror_mode": {
    "name": "ipython",
    "version": 3
   },
   "file_extension": ".py",
   "mimetype": "text/x-python",
   "name": "python",
   "nbconvert_exporter": "python",
   "pygments_lexer": "ipython3",
   "version": "3.10.9"
  }
 },
 "nbformat": 4,
 "nbformat_minor": 5
}
